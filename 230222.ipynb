{
 "cells": [
  {
   "cell_type": "code",
   "execution_count": 30,
   "id": "8bdb6130",
   "metadata": {},
   "outputs": [],
   "source": [
    "def calcSum() :\n",
    "    sum = 0\n",
    "    for num in range(1, 101) :\n",
    "        sum += num\n",
    "    print('sum =', sum)"
   ]
  },
  {
   "cell_type": "code",
   "execution_count": 31,
   "id": "cd29c3dc",
   "metadata": {},
   "outputs": [
    {
     "name": "stdout",
     "output_type": "stream",
     "text": [
      "sum = 5050\n"
     ]
    }
   ],
   "source": [
    "calcSum() #Call By Name"
   ]
  },
  {
   "cell_type": "code",
   "execution_count": 28,
   "id": "ee3e896d",
   "metadata": {},
   "outputs": [],
   "source": [
    "def calcSum(last) :\n",
    "    sum = 0\n",
    "    for num in range(1, last +1) :\n",
    "        sum += num\n",
    "    print('1부터 100까지의 합은 %d 입니다.' % sum)"
   ]
  },
  {
   "cell_type": "code",
   "execution_count": 29,
   "id": "26d8cb2e",
   "metadata": {},
   "outputs": [
    {
     "name": "stdout",
     "output_type": "stream",
     "text": [
      "1부터 100까지의 합은 11325 입니다.\n"
     ]
    }
   ],
   "source": [
    "calcSum(150) #Call By Value"
   ]
  },
  {
   "cell_type": "code",
   "execution_count": 35,
   "id": "2f41a131",
   "metadata": {},
   "outputs": [],
   "source": [
    "def calcSum(first, last) :\n",
    "    sum = 0\n",
    "    for num in range(first, last +1) :\n",
    "        sum += num\n",
    "    print('1부터 100까지의 합은 %d 입니다.' % sum)"
   ]
  },
  {
   "cell_type": "code",
   "execution_count": 38,
   "id": "bbae7f7b",
   "metadata": {},
   "outputs": [
    {
     "name": "stdout",
     "output_type": "stream",
     "text": [
      "1부터 100까지의 합은 5050 입니다.\n"
     ]
    }
   ],
   "source": [
    "calcSum(1, 100)"
   ]
  },
  {
   "cell_type": "code",
   "execution_count": 64,
   "id": "9cb6f330",
   "metadata": {},
   "outputs": [],
   "source": [
    "def changeme(other) :\n",
    "    other['Age'] = 45\n",
    "    print('In Funtion, other =', other)"
   ]
  },
  {
   "cell_type": "code",
   "execution_count": 65,
   "id": "2554cbb7",
   "metadata": {},
   "outputs": [
    {
     "name": "stdout",
     "output_type": "stream",
     "text": [
      "In Funtion, other = {'Age': 45}\n",
      "original {'Age': 45}\n"
     ]
    }
   ],
   "source": [
    "original = {'Age' : 25}\n",
    "changeme(original)\n",
    "print('original', original)"
   ]
  },
  {
   "cell_type": "code",
   "execution_count": 93,
   "id": "a1ab8063",
   "metadata": {},
   "outputs": [],
   "source": [
    "def inputStudent(student) :\n",
    "    student['Name'] = input('Name : ')\n",
    "    student['Age'] = int(input('Age : '))"
   ]
  },
  {
   "cell_type": "code",
   "execution_count": 96,
   "id": "1bfe781e",
   "metadata": {},
   "outputs": [],
   "source": [
    "def outputStudent(student) :\n",
    "    print('Name = %s, Age = %d'% (student['Name'], student['Age']))"
   ]
  },
  {
   "cell_type": "code",
   "execution_count": 97,
   "id": "3890594c",
   "metadata": {},
   "outputs": [
    {
     "name": "stdout",
     "output_type": "stream",
     "text": [
      "Name : ara\n",
      "Age : 10\n",
      "Name = ara, Age = 11\n"
     ]
    }
   ],
   "source": [
    "student = {}\n",
    "if __name__ == '__main__' :\n",
    "    inputStudent(student)\n",
    "    outputStudent(student)"
   ]
  },
  {
   "cell_type": "code",
   "execution_count": 99,
   "id": "8ca4ab15",
   "metadata": {},
   "outputs": [
    {
     "name": "stdout",
     "output_type": "stream",
     "text": [
      "Requirement already satisfied: nbconvert in /home/ubuntu/PythonHome/230221/lib/python3.10/site-packages (7.2.9)\n",
      "Requirement already satisfied: pandocfilters>=1.4.1 in /home/ubuntu/PythonHome/230221/lib/python3.10/site-packages (from nbconvert) (1.5.0)\n",
      "Requirement already satisfied: defusedxml in /home/ubuntu/PythonHome/230221/lib/python3.10/site-packages (from nbconvert) (0.7.1)\n",
      "Requirement already satisfied: mistune<3,>=2.0.3 in /home/ubuntu/PythonHome/230221/lib/python3.10/site-packages (from nbconvert) (2.0.5)\n",
      "Requirement already satisfied: nbclient>=0.5.0 in /home/ubuntu/PythonHome/230221/lib/python3.10/site-packages (from nbconvert) (0.7.2)\n",
      "Requirement already satisfied: nbformat>=5.1 in /home/ubuntu/PythonHome/230221/lib/python3.10/site-packages (from nbconvert) (5.7.3)\n",
      "Requirement already satisfied: jupyterlab-pygments in /home/ubuntu/PythonHome/230221/lib/python3.10/site-packages (from nbconvert) (0.2.2)\n",
      "Requirement already satisfied: bleach in /home/ubuntu/PythonHome/230221/lib/python3.10/site-packages (from nbconvert) (6.0.0)\n",
      "Requirement already satisfied: beautifulsoup4 in /home/ubuntu/PythonHome/230221/lib/python3.10/site-packages (from nbconvert) (4.11.2)\n",
      "Requirement already satisfied: pygments>=2.4.1 in /home/ubuntu/PythonHome/230221/lib/python3.10/site-packages (from nbconvert) (2.14.0)\n",
      "Requirement already satisfied: jinja2>=3.0 in /home/ubuntu/PythonHome/230221/lib/python3.10/site-packages (from nbconvert) (3.1.2)\n",
      "Requirement already satisfied: jupyter-core>=4.7 in /home/ubuntu/PythonHome/230221/lib/python3.10/site-packages (from nbconvert) (5.2.0)\n",
      "Requirement already satisfied: packaging in /home/ubuntu/PythonHome/230221/lib/python3.10/site-packages (from nbconvert) (23.0)\n",
      "Requirement already satisfied: markupsafe>=2.0 in /home/ubuntu/PythonHome/230221/lib/python3.10/site-packages (from nbconvert) (2.1.2)\n",
      "Requirement already satisfied: tinycss2 in /home/ubuntu/PythonHome/230221/lib/python3.10/site-packages (from nbconvert) (1.2.1)\n",
      "Requirement already satisfied: traitlets>=5.0 in /home/ubuntu/PythonHome/230221/lib/python3.10/site-packages (from nbconvert) (5.9.0)\n",
      "Requirement already satisfied: platformdirs>=2.5 in /home/ubuntu/PythonHome/230221/lib/python3.10/site-packages (from jupyter-core>=4.7->nbconvert) (3.0.0)\n",
      "Requirement already satisfied: jupyter-client>=6.1.12 in /home/ubuntu/PythonHome/230221/lib/python3.10/site-packages (from nbclient>=0.5.0->nbconvert) (8.0.3)\n",
      "Requirement already satisfied: jsonschema>=2.6 in /home/ubuntu/PythonHome/230221/lib/python3.10/site-packages (from nbformat>=5.1->nbconvert) (4.17.3)\n",
      "Requirement already satisfied: fastjsonschema in /home/ubuntu/PythonHome/230221/lib/python3.10/site-packages (from nbformat>=5.1->nbconvert) (2.16.2)\n",
      "Requirement already satisfied: soupsieve>1.2 in /home/ubuntu/PythonHome/230221/lib/python3.10/site-packages (from beautifulsoup4->nbconvert) (2.4)\n",
      "Requirement already satisfied: six>=1.9.0 in /home/ubuntu/PythonHome/230221/lib/python3.10/site-packages (from bleach->nbconvert) (1.16.0)\n",
      "Requirement already satisfied: webencodings in /home/ubuntu/PythonHome/230221/lib/python3.10/site-packages (from bleach->nbconvert) (0.5.1)\n",
      "Requirement already satisfied: attrs>=17.4.0 in /home/ubuntu/PythonHome/230221/lib/python3.10/site-packages (from jsonschema>=2.6->nbformat>=5.1->nbconvert) (22.2.0)\n",
      "Requirement already satisfied: pyrsistent!=0.17.0,!=0.17.1,!=0.17.2,>=0.14.0 in /home/ubuntu/PythonHome/230221/lib/python3.10/site-packages (from jsonschema>=2.6->nbformat>=5.1->nbconvert) (0.19.3)\n",
      "Requirement already satisfied: tornado>=6.2 in /home/ubuntu/PythonHome/230221/lib/python3.10/site-packages (from jupyter-client>=6.1.12->nbclient>=0.5.0->nbconvert) (6.2)\n",
      "Requirement already satisfied: python-dateutil>=2.8.2 in /home/ubuntu/PythonHome/230221/lib/python3.10/site-packages (from jupyter-client>=6.1.12->nbclient>=0.5.0->nbconvert) (2.8.2)\n",
      "Requirement already satisfied: pyzmq>=23.0 in /home/ubuntu/PythonHome/230221/lib/python3.10/site-packages (from jupyter-client>=6.1.12->nbclient>=0.5.0->nbconvert) (25.0.0)\n",
      "\n",
      "\u001b[1m[\u001b[0m\u001b[34;49mnotice\u001b[0m\u001b[1;39;49m]\u001b[0m\u001b[39;49m A new release of pip is available: \u001b[0m\u001b[31;49m23.0\u001b[0m\u001b[39;49m -> \u001b[0m\u001b[32;49m23.0.1\u001b[0m\n",
      "\u001b[1m[\u001b[0m\u001b[34;49mnotice\u001b[0m\u001b[1;39;49m]\u001b[0m\u001b[39;49m To update, run: \u001b[0m\u001b[32;49mpip install --upgrade pip\u001b[0m\n",
      "Note: you may need to restart the kernel to use updated packages.\n"
     ]
    }
   ],
   "source": [
    "pip install nbconvert"
   ]
  },
  {
   "cell_type": "code",
   "execution_count": 120,
   "id": "51cc2a36",
   "metadata": {},
   "outputs": [],
   "source": [
    "import nbconvert"
   ]
  },
  {
   "cell_type": "code",
   "execution_count": 121,
   "id": "46c4cf1e",
   "metadata": {},
   "outputs": [],
   "source": [
    "import myInput"
   ]
  },
  {
   "cell_type": "code",
   "execution_count": 122,
   "id": "e4286aeb",
   "metadata": {},
   "outputs": [
    {
     "name": "stdout",
     "output_type": "stream",
     "text": [
      "Name : araa\n",
      "Age : 10\n",
      "{'Name': 'araa', 'Nge': 10}\n"
     ]
    }
   ],
   "source": [
    "student = {}\n",
    "myInput.inputStudent(student)\n",
    "print(student)"
   ]
  },
  {
   "cell_type": "code",
   "execution_count": null,
   "id": "38ac5e6a",
   "metadata": {},
   "outputs": [],
   "source": []
  },
  {
   "cell_type": "code",
   "execution_count": 124,
   "id": "a26d31c1",
   "metadata": {},
   "outputs": [],
   "source": [
    "import util"
   ]
  },
  {
   "cell_type": "code",
   "execution_count": 126,
   "id": "f0183445",
   "metadata": {},
   "outputs": [
    {
     "name": "stdout",
     "output_type": "stream",
     "text": [
      "INCH =  2.54\n",
      "1부터 100까지의 합은 =  5050\n"
     ]
    }
   ],
   "source": [
    "print('INCH = ', util.INCH)\n",
    "print('1부터 100까지의 합은 = ', util.calcSum())"
   ]
  }
 ],
 "metadata": {
  "kernelspec": {
   "display_name": "Python 3 (ipykernel)",
   "language": "python",
   "name": "python3"
  },
  "language_info": {
   "codemirror_mode": {
    "name": "ipython",
    "version": 3
   },
   "file_extension": ".py",
   "mimetype": "text/x-python",
   "name": "python",
   "nbconvert_exporter": "python",
   "pygments_lexer": "ipython3",
   "version": "3.10.6"
  }
 },
 "nbformat": 4,
 "nbformat_minor": 5
}
